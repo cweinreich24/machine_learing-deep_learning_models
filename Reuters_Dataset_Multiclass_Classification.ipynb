{
  "nbformat": 4,
  "nbformat_minor": 0,
  "metadata": {
    "colab": {
      "name": "Reuters Dataset - Multiclass Classification.ipynb",
      "provenance": [],
      "authorship_tag": "ABX9TyPu2bs6UY0gROwpLWej/NFJ",
      "include_colab_link": true
    },
    "kernelspec": {
      "name": "python3",
      "display_name": "Python 3"
    }
  },
  "cells": [
    {
      "cell_type": "markdown",
      "metadata": {
        "id": "view-in-github",
        "colab_type": "text"
      },
      "source": [
        "<a href=\"https://colab.research.google.com/github/cweinreich24/machine_learning_models/blob/master/Reuters_Dataset_Multiclass_Classification.ipynb\" target=\"_parent\"><img src=\"https://colab.research.google.com/assets/colab-badge.svg\" alt=\"Open In Colab\"/></a>"
      ]
    },
    {
      "cell_type": "code",
      "metadata": {
        "id": "dI35_KO--7P4"
      },
      "source": [
        "from keras.datasets import reuters"
      ],
      "execution_count": 45,
      "outputs": []
    },
    {
      "cell_type": "code",
      "metadata": {
        "id": "TCrDmHo2_Hq8"
      },
      "source": [
        "(train_data, train_labels), (test_data, test_labels) = reuters.load_data(num_words=10000)"
      ],
      "execution_count": 46,
      "outputs": []
    },
    {
      "cell_type": "code",
      "metadata": {
        "id": "uBjr9gNP_bYz",
        "outputId": "5a221554-12a3-4e5d-9c86-2fa616945010",
        "colab": {
          "base_uri": "https://localhost:8080/"
        }
      },
      "source": [
        "#Lets understand our data\n",
        "print(\"There are \" + str(len(train_data)) + \" training examples in our dataset.\")\n",
        "print(\"There are \" + str(len(test_data)) + \" test examples in our dataset.\")\n",
        "\n",
        "print(\"There are \" + str(len(train_labels)) + \" test data points in our dataset.\")\n",
        "print(\"There are \" + str(len(test_labels)) + \" test labels in our dataset.\")"
      ],
      "execution_count": 47,
      "outputs": [
        {
          "output_type": "stream",
          "text": [
            "There are 8982 training examples in our dataset.\n",
            "There are 2246 test examples in our dataset.\n",
            "There are 8982 test data points in our dataset.\n",
            "There are 2246 test labels in our dataset.\n"
          ],
          "name": "stdout"
        }
      ]
    },
    {
      "cell_type": "code",
      "metadata": {
        "id": "I9Z3pO1R_r-1",
        "outputId": "acd799d6-ab87-4d6f-9b8f-5396a5b83cb0",
        "colab": {
          "base_uri": "https://localhost:8080/"
        }
      },
      "source": [
        "train_data[10]"
      ],
      "execution_count": 48,
      "outputs": [
        {
          "output_type": "execute_result",
          "data": {
            "text/plain": [
              "[1,\n",
              " 245,\n",
              " 273,\n",
              " 207,\n",
              " 156,\n",
              " 53,\n",
              " 74,\n",
              " 160,\n",
              " 26,\n",
              " 14,\n",
              " 46,\n",
              " 296,\n",
              " 26,\n",
              " 39,\n",
              " 74,\n",
              " 2979,\n",
              " 3554,\n",
              " 14,\n",
              " 46,\n",
              " 4689,\n",
              " 4329,\n",
              " 86,\n",
              " 61,\n",
              " 3499,\n",
              " 4795,\n",
              " 14,\n",
              " 61,\n",
              " 451,\n",
              " 4329,\n",
              " 17,\n",
              " 12]"
            ]
          },
          "metadata": {
            "tags": []
          },
          "execution_count": 48
        }
      ]
    },
    {
      "cell_type": "code",
      "metadata": {
        "id": "r4So_I6-AH-x",
        "outputId": "ee201f7a-1fc0-4b72-9946-45d20df03d79",
        "colab": {
          "base_uri": "https://localhost:8080/"
        }
      },
      "source": [
        "train_labels[10]"
      ],
      "execution_count": 49,
      "outputs": [
        {
          "output_type": "execute_result",
          "data": {
            "text/plain": [
              "3"
            ]
          },
          "metadata": {
            "tags": []
          },
          "execution_count": 49
        }
      ]
    },
    {
      "cell_type": "code",
      "metadata": {
        "id": "dhNjFCpd_8UC"
      },
      "source": [
        "#Lets decocde the data\n",
        "word_index = reuters.get_word_index()\n",
        "reverse_word_index = dict([(value, key) for (key, value) in word_index.items()])\n",
        "decoded_newswire = \" \".join([reverse_word_index.get(i - 3, '?') for i in train_data[10]])"
      ],
      "execution_count": 50,
      "outputs": []
    },
    {
      "cell_type": "code",
      "metadata": {
        "id": "O91aprgeAnLg",
        "outputId": "ff64488f-0bf8-4c76-ecc8-fb573888ef00",
        "colab": {
          "base_uri": "https://localhost:8080/"
        }
      },
      "source": [
        "print(decoded_newswire)"
      ],
      "execution_count": 51,
      "outputs": [
        {
          "output_type": "stream",
          "text": [
            "? period ended december 31 shr profit 11 cts vs loss 24 cts net profit 224 271 vs loss 511 349 revs 7 258 688 vs 7 200 349 reuter 3\n"
          ],
          "name": "stdout"
        }
      ]
    },
    {
      "cell_type": "code",
      "metadata": {
        "id": "S7XO-kfcJF0q"
      },
      "source": [
        "#Vectorize our data before building our network to feed the data into\n",
        "import numpy as np\n",
        "\n",
        "def vectorize_sequences(sequences, dimension=10000):\n",
        "  results = np.zeros((len(sequences), dimension))\n",
        "  for i, sequence in enumerate(sequences):\n",
        "    results[i, sequence] = 1\n",
        "  return results"
      ],
      "execution_count": 52,
      "outputs": []
    },
    {
      "cell_type": "code",
      "metadata": {
        "id": "cdP9SM0pJmr4"
      },
      "source": [
        "x_train = vectorize_sequences(train_data)\n",
        "x_test = vectorize_sequences(test_data)"
      ],
      "execution_count": 53,
      "outputs": []
    },
    {
      "cell_type": "code",
      "metadata": {
        "id": "WP7M7c-AJtAY",
        "outputId": "2688237e-bd12-4498-abe2-49f80be4736d",
        "colab": {
          "base_uri": "https://localhost:8080/"
        }
      },
      "source": [
        "print(x_train.shape)"
      ],
      "execution_count": 54,
      "outputs": [
        {
          "output_type": "stream",
          "text": [
            "(8982, 10000)\n"
          ],
          "name": "stdout"
        }
      ]
    },
    {
      "cell_type": "code",
      "metadata": {
        "id": "t1xhvjCuJwsg",
        "outputId": "8c101cd6-6547-4b1a-8278-9bba8bf95d11",
        "colab": {
          "base_uri": "https://localhost:8080/"
        }
      },
      "source": [
        "print(x_test.shape)"
      ],
      "execution_count": 55,
      "outputs": [
        {
          "output_type": "stream",
          "text": [
            "(2246, 10000)\n"
          ],
          "name": "stdout"
        }
      ]
    },
    {
      "cell_type": "code",
      "metadata": {
        "id": "D9Zbk_MoCCg8"
      },
      "source": [
        "#we can also use the built in keras fucntion \"to_categorical\" to encode our train and test labels\n",
        "from keras.utils.np_utils import to_categorical\n",
        "\n",
        "one_hot_train_labels = to_categorical(train_labels)\n",
        "one_hot_test_labels = to_categorical(test_labels)"
      ],
      "execution_count": 56,
      "outputs": []
    },
    {
      "cell_type": "code",
      "metadata": {
        "id": "aMRmTvaVCr6_",
        "outputId": "71fd8cc9-d3e2-4587-877a-51db3bb40354",
        "colab": {
          "base_uri": "https://localhost:8080/"
        }
      },
      "source": [
        "print(one_hot_train_labels)"
      ],
      "execution_count": 57,
      "outputs": [
        {
          "output_type": "stream",
          "text": [
            "[[0. 0. 0. ... 0. 0. 0.]\n",
            " [0. 0. 0. ... 0. 0. 0.]\n",
            " [0. 0. 0. ... 0. 0. 0.]\n",
            " ...\n",
            " [0. 0. 0. ... 0. 0. 0.]\n",
            " [0. 0. 0. ... 0. 0. 0.]\n",
            " [0. 0. 0. ... 0. 0. 0.]]\n"
          ],
          "name": "stdout"
        }
      ]
    },
    {
      "cell_type": "code",
      "metadata": {
        "id": "lEPnLUphCy5R",
        "outputId": "6c7e3f47-2769-487f-be1e-4025e815a61b",
        "colab": {
          "base_uri": "https://localhost:8080/"
        }
      },
      "source": [
        "print(one_hot_train_labels.shape)"
      ],
      "execution_count": 58,
      "outputs": [
        {
          "output_type": "stream",
          "text": [
            "(8982, 46)\n"
          ],
          "name": "stdout"
        }
      ]
    },
    {
      "cell_type": "code",
      "metadata": {
        "id": "cCpTcwx4C3yu",
        "outputId": "a4a8f2d1-e5d9-4b2c-df77-2765e756d962",
        "colab": {
          "base_uri": "https://localhost:8080/"
        }
      },
      "source": [
        "print(one_hot_test_labels.shape)"
      ],
      "execution_count": 59,
      "outputs": [
        {
          "output_type": "stream",
          "text": [
            "(2246, 46)\n"
          ],
          "name": "stdout"
        }
      ]
    },
    {
      "cell_type": "markdown",
      "metadata": {
        "id": "O9fr4fbeDxQj"
      },
      "source": [
        "Building our Network\n"
      ]
    },
    {
      "cell_type": "code",
      "metadata": {
        "id": "Mkwr1ziRDhb5"
      },
      "source": [
        "from keras import models\n",
        "from keras import layers\n",
        "\n",
        "model = models.Sequential()\n",
        "model.add(layers.Dense(64, activation='relu', input_shape=(10000,)))\n",
        "model.add(layers.Dense(64, activation='relu'))\n",
        "model.add(layers.Dense(46, activation='softmax'))"
      ],
      "execution_count": 60,
      "outputs": []
    },
    {
      "cell_type": "markdown",
      "metadata": {
        "id": "uFovmWvSEqGZ"
      },
      "source": [
        "Compiling the model"
      ]
    },
    {
      "cell_type": "code",
      "metadata": {
        "id": "wAewbRnWEscz"
      },
      "source": [
        "model.compile(optimizer='rmsprop',\n",
        "              loss='categorical_crossentropy',\n",
        "              metrics=['accuracy'])"
      ],
      "execution_count": 61,
      "outputs": []
    },
    {
      "cell_type": "markdown",
      "metadata": {
        "id": "adpSDfBWGPmW"
      },
      "source": [
        "Creating a validation set"
      ]
    },
    {
      "cell_type": "code",
      "metadata": {
        "id": "Kv5ArTnIE6KF"
      },
      "source": [
        "x_val = x_train[:1000]\n",
        "partial_x_train = x_train[1000:]\n",
        "\n",
        "y_val = one_hot_train_labels[:1000]\n",
        "partial_y_train = one_hot_train_labels[1000:]"
      ],
      "execution_count": 63,
      "outputs": []
    },
    {
      "cell_type": "code",
      "metadata": {
        "id": "NG4U1-RvIit5",
        "outputId": "acc534d0-0762-48f3-a042-fe8f11cafec5",
        "colab": {
          "base_uri": "https://localhost:8080/"
        }
      },
      "source": [
        "print(x_val.shape)"
      ],
      "execution_count": 64,
      "outputs": [
        {
          "output_type": "stream",
          "text": [
            "(1000, 10000)\n"
          ],
          "name": "stdout"
        }
      ]
    },
    {
      "cell_type": "code",
      "metadata": {
        "id": "_AhRZnatKGbF",
        "outputId": "b77a3807-259d-47e9-c5d0-07876a7d08d5",
        "colab": {
          "base_uri": "https://localhost:8080/"
        }
      },
      "source": [
        "print(partial_x_train.shape)"
      ],
      "execution_count": 67,
      "outputs": [
        {
          "output_type": "stream",
          "text": [
            "(7982, 10000)\n"
          ],
          "name": "stdout"
        }
      ]
    },
    {
      "cell_type": "code",
      "metadata": {
        "id": "1LRZ9xltKIrl",
        "outputId": "a03684d1-dff9-4420-961c-4a996afda183",
        "colab": {
          "base_uri": "https://localhost:8080/"
        }
      },
      "source": [
        "print(y_val.shape)"
      ],
      "execution_count": 69,
      "outputs": [
        {
          "output_type": "stream",
          "text": [
            "(1000, 46)\n"
          ],
          "name": "stdout"
        }
      ]
    },
    {
      "cell_type": "code",
      "metadata": {
        "id": "ubaV5cZEKOBh",
        "outputId": "90808484-5d9f-43e7-cb1b-39b81eff0e02",
        "colab": {
          "base_uri": "https://localhost:8080/"
        }
      },
      "source": [
        "print(partial_y_train.shape)"
      ],
      "execution_count": 70,
      "outputs": [
        {
          "output_type": "stream",
          "text": [
            "(7982, 46)\n"
          ],
          "name": "stdout"
        }
      ]
    },
    {
      "cell_type": "markdown",
      "metadata": {
        "id": "MeSb3da_KSrX"
      },
      "source": [
        "Training Our Model"
      ]
    },
    {
      "cell_type": "code",
      "metadata": {
        "id": "mX38hL0DKSFo",
        "outputId": "3e1aed75-ba3d-46f4-cb5d-21a3b2efb10a",
        "colab": {
          "base_uri": "https://localhost:8080/"
        }
      },
      "source": [
        "history = model.fit(partial_x_train, \n",
        "                    partial_y_train,\n",
        "                    epochs=20,\n",
        "                    batch_size=512,\n",
        "                    validation_data=(x_val, y_val))"
      ],
      "execution_count": 72,
      "outputs": [
        {
          "output_type": "stream",
          "text": [
            "Epoch 1/20\n",
            "16/16 [==============================] - 1s 55ms/step - loss: 2.5597 - accuracy: 0.4500 - val_loss: 1.7024 - val_accuracy: 0.6480\n",
            "Epoch 2/20\n",
            "16/16 [==============================] - 1s 44ms/step - loss: 1.4154 - accuracy: 0.7002 - val_loss: 1.3076 - val_accuracy: 0.7030\n",
            "Epoch 3/20\n",
            "16/16 [==============================] - 1s 45ms/step - loss: 1.0611 - accuracy: 0.7677 - val_loss: 1.1555 - val_accuracy: 0.7440\n",
            "Epoch 4/20\n",
            "16/16 [==============================] - 1s 45ms/step - loss: 0.8402 - accuracy: 0.8175 - val_loss: 1.0403 - val_accuracy: 0.7820\n",
            "Epoch 5/20\n",
            "16/16 [==============================] - 1s 46ms/step - loss: 0.6763 - accuracy: 0.8514 - val_loss: 0.9814 - val_accuracy: 0.7940\n",
            "Epoch 6/20\n",
            "16/16 [==============================] - 1s 45ms/step - loss: 0.5391 - accuracy: 0.8845 - val_loss: 0.9225 - val_accuracy: 0.8060\n",
            "Epoch 7/20\n",
            "16/16 [==============================] - 1s 46ms/step - loss: 0.4342 - accuracy: 0.9092 - val_loss: 0.9001 - val_accuracy: 0.8170\n",
            "Epoch 8/20\n",
            "16/16 [==============================] - 1s 45ms/step - loss: 0.3572 - accuracy: 0.9265 - val_loss: 0.8992 - val_accuracy: 0.8120\n",
            "Epoch 9/20\n",
            "16/16 [==============================] - 1s 45ms/step - loss: 0.2924 - accuracy: 0.9355 - val_loss: 0.9070 - val_accuracy: 0.8090\n",
            "Epoch 10/20\n",
            "16/16 [==============================] - 1s 45ms/step - loss: 0.2490 - accuracy: 0.9439 - val_loss: 0.9212 - val_accuracy: 0.8110\n",
            "Epoch 11/20\n",
            "16/16 [==============================] - 1s 45ms/step - loss: 0.2112 - accuracy: 0.9469 - val_loss: 0.9595 - val_accuracy: 0.8030\n",
            "Epoch 12/20\n",
            "16/16 [==============================] - 1s 45ms/step - loss: 0.1887 - accuracy: 0.9521 - val_loss: 0.9282 - val_accuracy: 0.8150\n",
            "Epoch 13/20\n",
            "16/16 [==============================] - 1s 45ms/step - loss: 0.1662 - accuracy: 0.9515 - val_loss: 0.9879 - val_accuracy: 0.8070\n",
            "Epoch 14/20\n",
            "16/16 [==============================] - 1s 44ms/step - loss: 0.1520 - accuracy: 0.9541 - val_loss: 0.9530 - val_accuracy: 0.8120\n",
            "Epoch 15/20\n",
            "16/16 [==============================] - 1s 45ms/step - loss: 0.1379 - accuracy: 0.9562 - val_loss: 0.9691 - val_accuracy: 0.8180\n",
            "Epoch 16/20\n",
            "16/16 [==============================] - 1s 44ms/step - loss: 0.1292 - accuracy: 0.9580 - val_loss: 1.0449 - val_accuracy: 0.8050\n",
            "Epoch 17/20\n",
            "16/16 [==============================] - 1s 44ms/step - loss: 0.1299 - accuracy: 0.9562 - val_loss: 1.0727 - val_accuracy: 0.7990\n",
            "Epoch 18/20\n",
            "16/16 [==============================] - 1s 44ms/step - loss: 0.1195 - accuracy: 0.9573 - val_loss: 1.0667 - val_accuracy: 0.8030\n",
            "Epoch 19/20\n",
            "16/16 [==============================] - 1s 46ms/step - loss: 0.1144 - accuracy: 0.9580 - val_loss: 1.0430 - val_accuracy: 0.8060\n",
            "Epoch 20/20\n",
            "16/16 [==============================] - 1s 44ms/step - loss: 0.1137 - accuracy: 0.9558 - val_loss: 1.1314 - val_accuracy: 0.7890\n"
          ],
          "name": "stdout"
        }
      ]
    },
    {
      "cell_type": "markdown",
      "metadata": {
        "id": "CIoYvDqWKw3X"
      },
      "source": [
        "Visualizing our training and validation loss"
      ]
    },
    {
      "cell_type": "code",
      "metadata": {
        "id": "Qnb3fSrXKQya",
        "outputId": "fb3798d2-b2e9-452d-c060-22ef24e2b6a0",
        "colab": {
          "base_uri": "https://localhost:8080/",
          "height": 295
        }
      },
      "source": [
        "import matplotlib.pyplot as plt\n",
        "\n",
        "loss = history.history['loss']\n",
        "val_loss = history.history['val_loss']\n",
        "\n",
        "epochs = range(1, len(loss) + 1)\n",
        "\n",
        "plt.plot(epochs, loss, 'bo', label='Training Loss')\n",
        "plt.plot(epochs, val_loss, 'b', label='Validation Loss')\n",
        "plt.title(\"Training and Validation Loss\")\n",
        "plt.xlabel('Epochs')\n",
        "plt.ylabel('Loss')\n",
        "plt.legend()\n",
        "\n",
        "plt.show()"
      ],
      "execution_count": 73,
      "outputs": [
        {
          "output_type": "display_data",
          "data": {
            "image/png": "[encoded data removed]",
            "text/plain": [
              "<Figure size 432x288 with 1 Axes>"
            ]
          },
          "metadata": {
            "tags": [],
            "needs_background": "light"
          }
        }
      ]
    },
    {
      "cell_type": "markdown",
      "metadata": {
        "id": "LdrmNrRjLc5e"
      },
      "source": [
        "Visualizing our Training and Validation Accuracy"
      ]
    },
    {
      "cell_type": "code",
      "metadata": {
        "id": "5XEp3ejLLZ6p",
        "outputId": "d2a48cb3-16ee-4e55-8d5d-0d3d37f66f7a",
        "colab": {
          "base_uri": "https://localhost:8080/",
          "height": 295
        }
      },
      "source": [
        "plt.clf()\n",
        "\n",
        "acc = history.history['accuracy']\n",
        "val_acc = history.history['val_accuracy']\n",
        "\n",
        "plt.plot(epochs, acc, 'bo', label='Training acc')\n",
        "plt.plot(epochs, val_acc, 'b', label='Validation acc')\n",
        "plt.title('Training and Validation Accuracy')\n",
        "plt.xlabel('Epochs')\n",
        "plt.ylabel('Loss')\n",
        "plt.legend()\n",
        "\n",
        "plt.show()"
      ],
      "execution_count": 78,
      "outputs": [
        {
          "output_type": "display_data",
          "data": {
            "image/png": "[encoded data removed]",
            "text/plain": [
              "<Figure size 432x288 with 1 Axes>"
            ]
          },
          "metadata": {
            "tags": [],
            "needs_background": "light"
          }
        }
      ]
    },
    {
      "cell_type": "markdown",
      "metadata": {
        "id": "DPuPtmymMdUs"
      },
      "source": [
        "After 9 Epochs, we can see our model begins to Overfit"
      ]
    },
    {
      "cell_type": "markdown",
      "metadata": {
        "id": "RYgC-R8YMh7T"
      },
      "source": [
        "Lets retrain a new model from the ground up"
      ]
    },
    {
      "cell_type": "code",
      "metadata": {
        "id": "krGODMwxL_sX"
      },
      "source": [
        "model = models.Sequential()"
      ],
      "execution_count": 83,
      "outputs": []
    },
    {
      "cell_type": "code",
      "metadata": {
        "id": "S2dgvI09NSIq"
      },
      "source": [
        "model.add(layers.Dense(64, activation='relu', input_shape=(10000,)))\n",
        "model.add(layers.Dense(64, activation='relu'))\n",
        "model.add(layers.Dense(46, activation='softmax'))"
      ],
      "execution_count": 86,
      "outputs": []
    },
    {
      "cell_type": "code",
      "metadata": {
        "id": "oH2y02WsMH5I"
      },
      "source": [
        "model.compile(optimizer='rmsprop',\n",
        "              loss='categorical_crossentropy',\n",
        "              metrics=['accuracy'])"
      ],
      "execution_count": 87,
      "outputs": []
    },
    {
      "cell_type": "code",
      "metadata": {
        "id": "yZe1e_3dNP1j",
        "outputId": "ed369702-72d8-4d2c-c903-2963947c4d0e",
        "colab": {
          "base_uri": "https://localhost:8080/"
        }
      },
      "source": [
        "model.fit(partial_x_train,\n",
        "          partial_y_train,\n",
        "          epochs=9,\n",
        "          batch_size=512,\n",
        "          validation_data=(x_val, y_val))"
      ],
      "execution_count": 88,
      "outputs": [
        {
          "output_type": "stream",
          "text": [
            "Epoch 1/9\n",
            "16/16 [==============================] - 1s 52ms/step - loss: 2.5520 - accuracy: 0.5045 - val_loss: 1.6790 - val_accuracy: 0.6290\n",
            "Epoch 2/9\n",
            "16/16 [==============================] - 1s 44ms/step - loss: 1.4291 - accuracy: 0.6834 - val_loss: 1.3203 - val_accuracy: 0.6890\n",
            "Epoch 3/9\n",
            "16/16 [==============================] - 1s 43ms/step - loss: 1.0903 - accuracy: 0.7477 - val_loss: 1.1649 - val_accuracy: 0.7410\n",
            "Epoch 4/9\n",
            "16/16 [==============================] - 1s 44ms/step - loss: 0.8628 - accuracy: 0.8115 - val_loss: 1.0853 - val_accuracy: 0.7510\n",
            "Epoch 5/9\n",
            "16/16 [==============================] - 1s 45ms/step - loss: 0.6921 - accuracy: 0.8482 - val_loss: 0.9968 - val_accuracy: 0.7880\n",
            "Epoch 6/9\n",
            "16/16 [==============================] - 1s 44ms/step - loss: 0.5553 - accuracy: 0.8807 - val_loss: 0.9992 - val_accuracy: 0.7820\n",
            "Epoch 7/9\n",
            "16/16 [==============================] - 1s 44ms/step - loss: 0.4365 - accuracy: 0.9103 - val_loss: 0.9927 - val_accuracy: 0.7900\n",
            "Epoch 8/9\n",
            "16/16 [==============================] - 1s 45ms/step - loss: 0.3518 - accuracy: 0.9240 - val_loss: 0.9724 - val_accuracy: 0.8030\n",
            "Epoch 9/9\n",
            "16/16 [==============================] - 1s 43ms/step - loss: 0.2944 - accuracy: 0.9355 - val_loss: 0.9902 - val_accuracy: 0.8220\n"
          ],
          "name": "stdout"
        },
        {
          "output_type": "execute_result",
          "data": {
            "text/plain": [
              "<tensorflow.python.keras.callbacks.History at 0x7fe2296c7f98>"
            ]
          },
          "metadata": {
            "tags": []
          },
          "execution_count": 88
        }
      ]
    },
    {
      "cell_type": "code",
      "metadata": {
        "id": "xAvyRGW7N8jp",
        "outputId": "2610516c-622e-4b30-cc9a-d742084c1927",
        "colab": {
          "base_uri": "https://localhost:8080/"
        }
      },
      "source": [
        "results = model.evaluate(x_test, one_hot_test_labels)\n",
        "results"
      ],
      "execution_count": 89,
      "outputs": [
        {
          "output_type": "stream",
          "text": [
            "71/71 [==============================] - 0s 2ms/step - loss: 1.0729 - accuracy: 0.7814\n"
          ],
          "name": "stdout"
        },
        {
          "output_type": "execute_result",
          "data": {
            "text/plain": [
              "[1.0729379653930664, 0.7813891172409058]"
            ]
          },
          "metadata": {
            "tags": []
          },
          "execution_count": 89
        }
      ]
    },
    {
      "cell_type": "markdown",
      "metadata": {
        "id": "y3F8b-fbOOAZ"
      },
      "source": [
        "Generating Predictions"
      ]
    },
    {
      "cell_type": "code",
      "metadata": {
        "id": "Osa98JHBOFKL"
      },
      "source": [
        "predictions = model.predict(x_test)"
      ],
      "execution_count": 90,
      "outputs": []
    },
    {
      "cell_type": "code",
      "metadata": {
        "id": "vucBVZI0OSM2",
        "outputId": "3f3b2794-858b-43ce-8e97-d4981dfbe11d",
        "colab": {
          "base_uri": "https://localhost:8080/"
        }
      },
      "source": [
        "print(predictions)"
      ],
      "execution_count": 91,
      "outputs": [
        {
          "output_type": "stream",
          "text": [
            "[[2.8986271e-04 1.0289417e-04 6.9716749e-05 ... 2.6456626e-05\n",
            "  2.7078526e-05 2.6619878e-06]\n",
            " [7.5506547e-04 6.1147199e-03 4.8793450e-02 ... 1.2452072e-03\n",
            "  6.2123610e-07 9.0383721e-05]\n",
            " [1.0221623e-02 8.4038448e-01 1.4724071e-03 ... 6.0397532e-04\n",
            "  1.8423991e-06 3.0086713e-04]\n",
            " ...\n",
            " [9.2488117e-05 4.5753596e-04 4.5533776e-05 ... 1.3886540e-05\n",
            "  4.8332760e-05 2.8386562e-06]\n",
            " [8.2677864e-03 3.4111485e-01 9.5262518e-03 ... 1.1422020e-02\n",
            "  1.3620068e-03 1.3422995e-03]\n",
            " [1.6855650e-03 6.9785619e-01 2.0868165e-02 ... 1.2205424e-03\n",
            "  4.7225499e-06 1.2624894e-04]]\n"
          ],
          "name": "stdout"
        }
      ]
    },
    {
      "cell_type": "code",
      "metadata": {
        "id": "vbDdgChiOTZL",
        "outputId": "c90304bd-10c5-4dad-a00d-edef1ebd84c4",
        "colab": {
          "base_uri": "https://localhost:8080/"
        }
      },
      "source": [
        "print(predictions[0].shape)"
      ],
      "execution_count": 92,
      "outputs": [
        {
          "output_type": "stream",
          "text": [
            "(46,)\n"
          ],
          "name": "stdout"
        }
      ]
    },
    {
      "cell_type": "code",
      "metadata": {
        "id": "Aom-TJpGOaoi",
        "outputId": "9159d6e4-440d-4447-d3df-360895189f3f",
        "colab": {
          "base_uri": "https://localhost:8080/"
        }
      },
      "source": [
        "#Sum up the coefficients\n",
        "np.sum(predictions[0])"
      ],
      "execution_count": 93,
      "outputs": [
        {
          "output_type": "execute_result",
          "data": {
            "text/plain": [
              "1.0"
            ]
          },
          "metadata": {
            "tags": []
          },
          "execution_count": 93
        }
      ]
    },
    {
      "cell_type": "code",
      "metadata": {
        "id": "sih2SVhkOlqn",
        "outputId": "bb11f1c2-7bb9-44bf-a1e3-cd0195af1409",
        "colab": {
          "base_uri": "https://localhost:8080/"
        }
      },
      "source": [
        "#The class with the highest probability\n",
        "np.argmax(predictions[0])"
      ],
      "execution_count": 94,
      "outputs": [
        {
          "output_type": "execute_result",
          "data": {
            "text/plain": [
              "3"
            ]
          },
          "metadata": {
            "tags": []
          },
          "execution_count": 94
        }
      ]
    },
    {
      "cell_type": "code",
      "metadata": {
        "id": "rfHHF9ZCOwHq"
      },
      "source": [
        ""
      ],
      "execution_count": null,
      "outputs": []
    },
    {
      "cell_type": "code",
      "metadata": {
        "id": "W0esElGPQpMv"
      },
      "source": [
        ""
      ],
      "execution_count": null,
      "outputs": []
    }
  ]
}